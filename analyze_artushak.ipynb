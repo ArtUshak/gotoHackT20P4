{
 "cells": [
  {
   "cell_type": "code",
   "execution_count": null,
   "metadata": {
    "collapsed": false
   },
   "outputs": [],
   "source": [
    "import pandas\n",
    "import numpy\n",
    "import matplotlib as plt\n",
    "\n",
    "data_filename = 'data.csv'\n",
    "\n",
    "def load_structure(course_id):\n",
    "    return pandas.read_csv('../data_stepic/course-' + str(course_id) + '-structure.csv')\n",
    "\n",
    "def load_events(course_id):\n",
    "    return pandas.read_csv('../data_stepic/course-' + str(course_id) + '-events.csv')\n",
    "\n",
    "#course_ids = [7, 63, 65, 75, 91]\n",
    "course_ids = [7, 63]\n",
    "num_courses = len(course_ids)\n",
    "course_structures = []\n",
    "course_lessons = []\n",
    "course_events = []\n",
    "\n",
    "for course_id in course_ids:\n",
    "    structure = load_structure(course_id)\n",
    "    events = load_events(course_id)\n",
    "    course_structures += [structure]\n",
    "    course_lessons += [structure.lesson_id.unique()]\n",
    "    course_events += [events]\n",
    "\n",
    "#DEBUG\n",
    "course_structures[0]\n",
    "course_events[0]\n",
    "#END\n",
    "\n",
    "for i in range(num_courses):\n",
    "    print('COURSE  : ' + str(course_ids[i]))\n",
    "    print('LESSONS : ' + str(course_lessons[i]))\n",
    "\n",
    "lesson_matches = []\n",
    "\n",
    "for i_a in range(num_courses):\n",
    "    for lesson_i_a in course_lessons[i_a]:\n",
    "        for i_b in range(num_courses):\n",
    "            if i_a == i_b:\n",
    "                continue\n",
    "            for lesson_i_a in course_lessons[i_b]:\n",
    "                lesson_events_a = []\n",
    "                for course_a_event_idx, course_a_event in course_events[i_a].iterrows():\n",
    "                    #column 2 is step_id\n",
    "                    if course_a_event['step_id'] in course_structures[i_a].step_id[course_structures[i_a].lesson_id == lesson_i_a]:\n",
    "                        continue\n",
    "                    lesson_events_a += [course_a_event]\n",
    "                print(course_lessons[i_a])\n",
    "                print(course_lessons[i_b])\n",
    "                print(lesson_events_a)\n"
   ]
  },
  {
   "cell_type": "code",
   "execution_count": null,
   "metadata": {
    "collapsed": true
   },
   "outputs": [],
   "source": []
  }
 ],
 "metadata": {
  "kernelspec": {
   "display_name": "Python 3",
   "language": "python",
   "name": "python3"
  },
  "language_info": {
   "codemirror_mode": {
    "name": "ipython",
    "version": 3
   },
   "file_extension": ".py",
   "mimetype": "text/x-python",
   "name": "python",
   "nbconvert_exporter": "python",
   "pygments_lexer": "ipython3",
   "version": "3.5.2"
  }
 },
 "nbformat": 4,
 "nbformat_minor": 2
}
